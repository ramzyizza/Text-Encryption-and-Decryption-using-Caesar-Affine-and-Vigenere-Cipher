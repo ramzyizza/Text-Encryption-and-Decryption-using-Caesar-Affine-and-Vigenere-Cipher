{
  "cells": [
    {
      "cell_type": "code",
      "execution_count": 158,
      "metadata": {
        "id": "wduNDwF205yv"
      },
      "outputs": [],
      "source": [
        "##░█▀▀░█▀▄░█░█░█▀█░▀█▀░█▀█░█▀▀░█▀▄░█▀█░█▀█░█░█░█░█\n",
        "##░█░░░█▀▄░░█░░█▀▀░░█░░█░█░█░█░█▀▄░█▀█░█▀▀░█▀█░░█░\n",
        "##░▀▀▀░▀░▀░░▀░░▀░░░░▀░░▀▀▀░▀▀▀░▀░▀░▀░▀░▀░░░▀░▀░░▀░"
      ]
    },
    {
      "cell_type": "markdown",
      "metadata": {
        "id": "Am_S40Ynnb7M"
      },
      "source": [
        "# **Text Encryption and Decryption using Caesar, Affine, and Vigenere Cipher with Python**\n",
        "\n",
        "This project is intended to allow users to input their text and encrypt with Caesar, Affine, and Vigenere Cipher along with its decryption process\n",
        "\n",
        "## Developers:\n",
        "*   FARIZ MUHAMMAD\n",
        "*   MUHAMMAD RIFQI FAMEIZY\n",
        "*   RAMZY IZZA WARDHANA"
      ]
    },
    {
      "cell_type": "markdown",
      "metadata": {
        "id": "olYhOBRDnVep"
      },
      "source": [
        "### **Import Dependencies**"
      ]
    },
    {
      "cell_type": "code",
      "execution_count": 159,
      "metadata": {
        "id": "jN8M1mHDOXfx"
      },
      "outputs": [],
      "source": [
        "import random\n",
        "import math"
      ]
    },
    {
      "cell_type": "markdown",
      "metadata": {
        "id": "C3vLqd2sfGIo"
      },
      "source": [
        "# ENCRYPTION PROCESS"
      ]
    },
    {
      "cell_type": "markdown",
      "metadata": {
        "id": "8kvCFar6NLFG"
      },
      "source": [
        "### Step 1 : Caesar Cipher"
      ]
    },
    {
      "cell_type": "code",
      "execution_count": 160,
      "metadata": {
        "id": "WMme3ADCLwhd"
      },
      "outputs": [],
      "source": [
        "def caesar_encrypt(text):\n",
        "    shift = 3\n",
        "    result = \"\"\n",
        "    for char in text:\n",
        "        if char.isalpha():\n",
        "            shifted_char = chr((ord(char.lower()) - 97 + shift) % 26 + 97)\n",
        "            if char.isupper():\n",
        "                shifted_char = shifted_char.upper()\n",
        "            result += shifted_char\n",
        "        else:\n",
        "            result += char\n",
        "    return result"
      ]
    },
    {
      "cell_type": "markdown",
      "metadata": {
        "id": "riMPMA8efZ9G"
      },
      "source": [
        "### Step 2: Affine Cipher"
      ]
    },
    {
      "cell_type": "code",
      "execution_count": 161,
      "metadata": {
        "id": "_0OzfhPwfNs6"
      },
      "outputs": [],
      "source": [
        "def affine_encrypt(text):\n",
        "    a = 5\n",
        "    b = 8\n",
        "    result = \"\"\n",
        "    for char in text:\n",
        "        if char.isalpha():\n",
        "            shifted_char = chr(((ord(char.lower()) - 97) * a + b) % 26 + 97)\n",
        "            if char.isupper():\n",
        "                shifted_char = shifted_char.upper()\n",
        "            result += shifted_char\n",
        "        else:\n",
        "            result += char\n",
        "    return result"
      ]
    },
    {
      "cell_type": "markdown",
      "metadata": {
        "id": "xLbDoEcRfidj"
      },
      "source": [
        "### Step 3: Vigenere Cipher"
      ]
    },
    {
      "cell_type": "code",
      "execution_count": 162,
      "metadata": {
        "id": "7-BmUz7hftp2"
      },
      "outputs": [],
      "source": [
        "def vigenere_encrypt(text):\n",
        "\n",
        "    key = 'key'\n",
        "    char_to_num = {chr(i): i-97 for i in range(97, 123)}\n",
        "    num_to_char = {i-97: chr(i) for i in range(97, 123)}\n",
        "    \n",
        "    key = key.lower()\n",
        "    \n",
        "    ciphertext = ''\n",
        "    key_index = 0\n",
        "    \n",
        "    for char in text:\n",
        "        if char.isalpha():\n",
        "            char_num = char_to_num[char.lower()]\n",
        "            key_num = char_to_num[key[key_index % len(key)]]\n",
        "            \n",
        "            char_num = (char_num + key_num) % 26\n",
        "            \n",
        "            ciphertext += num_to_char[char_num]\n",
        "            \n",
        "            key_index += 1\n",
        "        else:\n",
        "            ciphertext += char\n",
        "            \n",
        "    return ciphertext"
      ]
    },
    {
      "cell_type": "markdown",
      "metadata": {
        "id": "Ed0AdyINzbUG"
      },
      "source": [
        "### Step 4: Rail Fence Technique Cipher\n"
      ]
    },
    {
      "cell_type": "code",
      "execution_count": 163,
      "metadata": {
        "id": "XIVO10Snza4o"
      },
      "outputs": [],
      "source": [
        "def railfence_encrypt(text):\n",
        "    key = 3\n",
        "    matrix = [[] for _ in range(key)]\n",
        "    \n",
        "    direction = 1\n",
        "    row, col = 0, 0\n",
        "    \n",
        "    for char in text:\n",
        "        matrix[row].append(char)\n",
        "        if row == 0:\n",
        "            direction = 1\n",
        "        elif row == key - 1:\n",
        "            direction = -1\n",
        "        row += direction\n",
        "    \n",
        "    cipher_text = \"\"\n",
        "    for row in matrix:\n",
        "        cipher_text += \"\".join(row)\n",
        "    \n",
        "    return cipher_text"
      ]
    },
    {
      "cell_type": "markdown",
      "metadata": {
        "id": "guLXZr2AiKbX"
      },
      "source": [
        "### Step 5: Call the Functions"
      ]
    },
    {
      "cell_type": "code",
      "execution_count": 164,
      "metadata": {
        "id": "iXRiz15DfTSs"
      },
      "outputs": [],
      "source": [
        "def encrypt(text):\n",
        "    first_step = caesar_encrypt(text)\n",
        "    second_step = affine_encrypt(first_step)\n",
        "    third_step = vigenere_encrypt(second_step)\n",
        "    fourth_step = railfence_encrypt(third_step)\n",
        "    return fourth_step"
      ]
    },
    {
      "cell_type": "markdown",
      "metadata": {
        "id": "jbgNA30Jxss6"
      },
      "source": [
        "# DECRYPTION PROCESS"
      ]
    },
    {
      "cell_type": "markdown",
      "metadata": {
        "id": "pW6BiBifzhrD"
      },
      "source": [
        "### Step 1: Decrypt Rail Fence Technique\n"
      ]
    },
    {
      "cell_type": "code",
      "execution_count": 165,
      "metadata": {
        "id": "krciLhbOzmr6"
      },
      "outputs": [],
      "source": [
        "def railfence_decrypt(ciphertext):\n",
        "    key = 3\n",
        "    matrix = [['\\n' for i in range(len(ciphertext))] for j in range(key)]\n",
        "    row, col = 0, 0\n",
        "    direction = 1\n",
        "    \n",
        "    for char in ciphertext:\n",
        "        if row == 0:\n",
        "            direction = 1\n",
        "        elif row == key - 1:\n",
        "            direction = -1\n",
        "        matrix[row][col] = '*'\n",
        "        row += direction\n",
        "        col += 1\n",
        "        \n",
        "    index = 0\n",
        "    for i in range(key):\n",
        "        for j in range(len(ciphertext)):\n",
        "            if matrix[i][j] == '*' and index < len(ciphertext):\n",
        "                matrix[i][j] = ciphertext[index]\n",
        "                index += 1\n",
        "                \n",
        "    result = []\n",
        "    row, col = 0, 0\n",
        "    for i in range(len(ciphertext)):\n",
        "        if row == 0:\n",
        "            direction = 1\n",
        "        elif row == key - 1:\n",
        "            direction = -1\n",
        "        if matrix[row][col] != '\\n':\n",
        "            result.append(matrix[row][col])\n",
        "            col += 1\n",
        "        row += direction\n",
        "    return \"\".join(result)"
      ]
    },
    {
      "cell_type": "markdown",
      "metadata": {
        "id": "l45kszuGhUDM"
      },
      "source": [
        "### Step 2 : Decrypt Vigenere"
      ]
    },
    {
      "cell_type": "code",
      "execution_count": 166,
      "metadata": {
        "id": "Nhi9WNNPiCOZ"
      },
      "outputs": [],
      "source": [
        "def vigenere_decrypt(ciphertext):\n",
        "\n",
        "    key = 'key'\n",
        "    char_to_num = {chr(i): i-97 for i in range(97, 123)}\n",
        "    num_to_char = {i-97: chr(i) for i in range(97, 123)}\n",
        "    \n",
        "    key = key.lower()\n",
        "    \n",
        "    plaintext = ''\n",
        "    key_index = 0\n",
        "    \n",
        "    for char in ciphertext:\n",
        "        if char.isalpha():\n",
        "            char_num = char_to_num[char.lower()]\n",
        "            key_num = char_to_num[key[key_index % len(key)]]\n",
        "            \n",
        "            char_num = (char_num - key_num) % 26\n",
        "            \n",
        "            plaintext += num_to_char[char_num]\n",
        "            \n",
        "            key_index += 1\n",
        "        else:\n",
        "            plaintext += char\n",
        "            \n",
        "    return plaintext"
      ]
    },
    {
      "cell_type": "markdown",
      "metadata": {
        "id": "DJC8_PhchmFZ"
      },
      "source": [
        "### Step 3 : Decrypt Affine"
      ]
    },
    {
      "cell_type": "code",
      "execution_count": 167,
      "metadata": {
        "id": "WNTy3PeHhhrp"
      },
      "outputs": [],
      "source": [
        "def affine_decrypt(ciphertext):\n",
        "    a = 5\n",
        "    b = 8\n",
        "    plaintext = \"\"\n",
        "    m = 26\n",
        "    a_inv = 0\n",
        "    for i in range(m):\n",
        "        if (a * i) % m == 1:\n",
        "            a_inv = i\n",
        "            break\n",
        "    for c in ciphertext:\n",
        "        if c.isalpha():\n",
        "            index = (a_inv * (ord(c) - ord('A' if c.isupper() else 'a') - b)) % m\n",
        "            plaintext += chr(index + ord('A' if c.isupper() else 'a'))\n",
        "        else:\n",
        "            plaintext += c\n",
        "    return plaintext"
      ]
    },
    {
      "cell_type": "markdown",
      "metadata": {
        "id": "UZrVgXsOh13E"
      },
      "source": [
        "### Step 4 : Decrypt Caesar"
      ]
    },
    {
      "cell_type": "code",
      "execution_count": 168,
      "metadata": {
        "id": "0whqOQjRhc4B"
      },
      "outputs": [],
      "source": [
        "def caesar_decrypt(ciphertext):\n",
        "    shift = 3\n",
        "    result = \"\"\n",
        "    for char in ciphertext:\n",
        "        if char.isalpha():\n",
        "            shifted_char = chr((ord(char.lower()) - 97 - shift) % 26 + 97)\n",
        "            if char.isupper():\n",
        "                shifted_char = shifted_char.upper()\n",
        "            result += shifted_char\n",
        "        else:\n",
        "            result += char\n",
        "    return result"
      ]
    },
    {
      "cell_type": "markdown",
      "metadata": {
        "id": "qqA7BgSko7Cp"
      },
      "source": [
        "### Step 5: Call the Functions"
      ]
    },
    {
      "cell_type": "code",
      "execution_count": 169,
      "metadata": {
        "id": "6GkjIeyUq5qV"
      },
      "outputs": [],
      "source": [
        "def decrypt(ciphertext):\n",
        "  first_step = railfence_decrypt(ciphertext)\n",
        "  second_step = vigenere_decrypt(first_step)\n",
        "  third_step = affine_decrypt(second_step)\n",
        "  fourth_step = caesar_decrypt(third_step)\n",
        "  return fourth_step"
      ]
    },
    {
      "cell_type": "markdown",
      "metadata": {
        "id": "CsmKP1Lalkxo"
      },
      "source": [
        "# Main Program"
      ]
    },
    {
      "cell_type": "code",
      "execution_count": 170,
      "metadata": {
        "colab": {
          "base_uri": "https://localhost:8080/"
        },
        "id": "nnqwXXLEwAcr",
        "outputId": "989e4032-caca-4432-8977-44b10302d421"
      },
      "outputs": [
        {
          "name": "stdout",
          "output_type": "stream",
          "text": [
            "Input your text: ramzy fariz fam\n",
            "\n",
            "Encrypted Text : oriabc hj vducp\n",
            "Decrypted Text : ramzy fariz fam\n"
          ]
        }
      ],
      "source": [
        "plaintext = input('Input your text: ')\n",
        "\n",
        "x = encrypt(plaintext)\n",
        "print(\"\\nEncrypted Text : \" + x)\n",
        "\n",
        "y = decrypt(x)\n",
        "print(\"Decrypted Text : \" + y)"
      ]
    }
  ],
  "metadata": {
    "colab": {
      "provenance": []
    },
    "kernelspec": {
      "display_name": "Python 3",
      "name": "python3"
    },
    "language_info": {
      "name": "python"
    }
  },
  "nbformat": 4,
  "nbformat_minor": 0
}
